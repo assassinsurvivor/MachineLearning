{
 "cells": [
  {
   "cell_type": "code",
   "execution_count": 1,
   "metadata": {},
   "outputs": [],
   "source": [
    "import numpy as np\n",
    "import matplotlib.pyplot as plt"
   ]
  },
  {
   "cell_type": "code",
   "execution_count": 2,
   "metadata": {},
   "outputs": [],
   "source": [
    "x=np.linspace(1,20,50)+np.linspace(1,5,50)\n",
    "x=x.reshape(-1,1)\n",
    "\n",
    "for i in range(4):\n",
    "    idx=np.random.randint(0,50)\n",
    "    x[i]=np.random.randint(50,70)\n",
    "y=np.linspace(50,100,50)"
   ]
  },
  {
   "cell_type": "code",
   "execution_count": 3,
   "metadata": {},
   "outputs": [],
   "source": [
    "from scipy.stats import linregress"
   ]
  },
  {
   "cell_type": "code",
   "execution_count": 4,
   "metadata": {},
   "outputs": [
    {
     "data": {
      "text/plain": [
       "LinregressResult(slope=1.0, intercept=5.0, rvalue=1.0, pvalue=0.0, stderr=0.0)"
      ]
     },
     "execution_count": 4,
     "metadata": {},
     "output_type": "execute_result"
    }
   ],
   "source": [
    "#just testing ,no use in the code\n",
    "a=[10,15]\n",
    "b=[15,20]\n",
    "\n",
    "#Here m=20-15/15-10=5/5=1 and c=20-m*x2\n",
    "\n",
    "linregress(x=a,y=b) #works Now make the function ,r-value is the correlation coeff\n"
   ]
  },
  {
   "cell_type": "code",
   "execution_count": 5,
   "metadata": {},
   "outputs": [],
   "source": [
    "#function to return slope and intercept\n",
    "def twodimensional(a,b):\n",
    "    res=linregress(x=a,y=b)\n",
    "    return res.slope,res.intercept"
   ]
  },
  {
   "cell_type": "code",
   "execution_count": 6,
   "metadata": {},
   "outputs": [],
   "source": [
    "#finding intercept from normal\n",
    "\n",
    "\n",
    "from scipy.optimize import fsolve\n",
    "\n",
    "def intercept(slope, intercept, x1, y1):\n",
    "    \n",
    "    a = (x1 + slope*y1 - slope*intercept)/(1 + slope**2)\n",
    "    b = (slope*x1 + (slope**2)*y1 - (slope**2)*intercept)/(1 + slope**2) + intercept\n",
    " \n",
    "    return a, b"
   ]
  },
  {
   "cell_type": "code",
   "execution_count": 7,
   "metadata": {},
   "outputs": [
    {
     "name": "stdout",
     "output_type": "stream",
     "text": [
      "1.0\n"
     ]
    }
   ],
   "source": [
    "##testing\n",
    "from scipy.spatial import distance\n",
    "raw_1=[2,2]\n",
    "raw_2=[2,3]\n",
    "print(distance.euclidean(raw_1, raw_2)) #working"
   ]
  },
  {
   "cell_type": "code",
   "execution_count": 8,
   "metadata": {},
   "outputs": [
    {
     "name": "stdout",
     "output_type": "stream",
     "text": [
      "On iteration 0\n",
      "f*** yeah!!!\n"
     ]
    }
   ],
   "source": [
    "import random\n",
    "original_x=x\n",
    "original_y=y\n",
    "defeatable=0.7 #percentage of inliers i have taken is 70%\n",
    "for z in range(15): #total no of iterations i want\n",
    "    print(\"On iteration {}\".format(z))\n",
    "    #shuffling x and y after zipping and taking only 7 points let's say\n",
    "    \n",
    "\n",
    "    cache=list(zip(x,y))\n",
    "    random.shuffle(cache)\n",
    "    \n",
    "    x,y= zip(*cache)\n",
    "    sampled_x=list(x[:7])\n",
    "    \n",
    "    xx=[]\n",
    "    for i in sampled_x:\n",
    "        xx.append(list(i)[0])\n",
    "    \n",
    "    sampled_y=list(y[:7])\n",
    "    \n",
    "    test_y=list(y[7:])\n",
    "    test_x=list(x[7:])\n",
    "    test_xx=[]\n",
    "    for i in test_x:\n",
    "        test_xx.append(list(i)[0])\n",
    "    \n",
    "    m,c=twodimensional(xx,sampled_y)\n",
    "    \n",
    "\n",
    "\n",
    "    count=0\n",
    "    x_store=[]\n",
    "    y_store=[]\n",
    "    for i in range(len(test_xx)):\n",
    "        tester_x=test_xx[i]\n",
    "        tester_y=test_y[i]\n",
    "        a,b=intercept(m,c,tester_x,tester_y)\n",
    "        dist=distance.euclidean([a,b],[tester_x,tester_y])\n",
    "        if dist<4:#I have taken 4 as a random threshold(hyperparameter)\n",
    "            count+=1\n",
    "            x_store.append(tester_x)\n",
    "            y_store.append(tester_y)\n",
    "    res_1=np.array(x_store)\n",
    "    res_2=np.array(y_store)\n",
    "\n",
    "    if count/50>defeatable:\n",
    "        defeatable=count/50\n",
    "        actual_m=m\n",
    "        actual_c=c\n",
    "\n",
    "    if count/50>0.76: #we got a good model let's break the loop and save time\n",
    "        print(\"f*** yeah!!!\")\n",
    "        break\n",
    "\n",
    "\n",
    "\n",
    "        \n",
    "    "
   ]
  },
  {
   "cell_type": "code",
   "execution_count": 9,
   "metadata": {},
   "outputs": [
    {
     "data": {
      "text/plain": [
       "2.1739130434782608"
      ]
     },
     "execution_count": 9,
     "metadata": {},
     "output_type": "execute_result"
    }
   ],
   "source": [
    "actual_m"
   ]
  },
  {
   "cell_type": "code",
   "execution_count": 10,
   "metadata": {},
   "outputs": [
    {
     "data": {
      "text/plain": [
       "45.65217391304346"
      ]
     },
     "execution_count": 10,
     "metadata": {},
     "output_type": "execute_result"
    }
   ],
   "source": [
    "actual_c"
   ]
  },
  {
   "cell_type": "code",
   "execution_count": 11,
   "metadata": {},
   "outputs": [
    {
     "data": {
      "text/plain": [
       "LinearRegression(copy_X=True, fit_intercept=True, n_jobs=1, normalize=False)"
      ]
     },
     "execution_count": 11,
     "metadata": {},
     "output_type": "execute_result"
    }
   ],
   "source": [
    "#Moment of truth\n",
    "\n",
    "from sklearn.linear_model import LinearRegression\n",
    "clf=LinearRegression()\n",
    "clf.fit(original_x.reshape(-1,1),original_y)"
   ]
  },
  {
   "cell_type": "code",
   "execution_count": 12,
   "metadata": {},
   "outputs": [],
   "source": [
    "import matplotlib.pyplot as plt\n"
   ]
  },
  {
   "cell_type": "code",
   "execution_count": 13,
   "metadata": {},
   "outputs": [
    {
     "data": {
      "image/png": "[encoded data removed]",
      "text/plain": [
       "<Figure size 432x288 with 1 Axes>"
      ]
     },
     "metadata": {},
     "output_type": "display_data"
    }
   ],
   "source": [
    "plt.scatter(original_x.reshape(-1,1),original_y)\n",
    "plt.plot(original_x.reshape(-1,1),clf.predict(original_x))\n",
    "plt.show()"
   ]
  },
  {
   "cell_type": "code",
   "execution_count": 14,
   "metadata": {},
   "outputs": [
    {
     "data": {
      "image/png": "[encoded data removed]",
      "text/plain": [
       "<Figure size 432x288 with 1 Axes>"
      ]
     },
     "metadata": {},
     "output_type": "display_data"
    }
   ],
   "source": [
    "#my model\n",
    "plt.scatter(original_x.reshape(-1,1),original_y)\n",
    "plt.plot(original_x.reshape(-1,1),actual_m*(original_x)+actual_c)\n",
    "plt.show()\n"
   ]
  },
  {
   "cell_type": "code",
   "execution_count": null,
   "metadata": {},
   "outputs": [],
   "source": []
  }
 ],
 "metadata": {
  "kernelspec": {
   "display_name": "Python 3",
   "language": "python",
   "name": "python3"
  },
  "language_info": {
   "codemirror_mode": {
    "name": "ipython",
    "version": 3
   },
   "file_extension": ".py",
   "mimetype": "text/x-python",
   "name": "python",
   "nbconvert_exporter": "python",
   "pygments_lexer": "ipython3",
   "version": "3.6.0"
  }
 },
 "nbformat": 4,
 "nbformat_minor": 2
}
